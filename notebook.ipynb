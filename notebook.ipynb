{
 "cells": [
  {
   "cell_type": "code",
   "execution_count": 1,
   "id": "a0c0e036",
   "metadata": {},
   "outputs": [],
   "source": [
    "import pandas as pd\n",
    "import numpy as np"
   ]
  },
  {
   "cell_type": "code",
   "execution_count": 2,
   "id": "70e7a632",
   "metadata": {},
   "outputs": [
    {
     "name": "stdout",
     "output_type": "stream",
     "text": [
      "Defaulting to user installation because normal site-packages is not writeable\n",
      "Requirement already satisfied: torch in /Users/bertrandmutangana/Library/Python/3.11/lib/python/site-packages (2.7.1)\n",
      "Requirement already satisfied: filelock in /Users/bertrandmutangana/Library/Python/3.11/lib/python/site-packages (from torch) (3.18.0)\n",
      "Requirement already satisfied: typing-extensions>=4.10.0 in /Users/bertrandmutangana/Library/Python/3.11/lib/python/site-packages (from torch) (4.14.1)\n",
      "Requirement already satisfied: sympy>=1.13.3 in /Users/bertrandmutangana/Library/Python/3.11/lib/python/site-packages (from torch) (1.14.0)\n",
      "Requirement already satisfied: networkx in /Users/bertrandmutangana/Library/Python/3.11/lib/python/site-packages (from torch) (3.5)\n",
      "Requirement already satisfied: jinja2 in /Users/bertrandmutangana/Library/Python/3.11/lib/python/site-packages (from torch) (3.1.6)\n",
      "Requirement already satisfied: fsspec in /Users/bertrandmutangana/Library/Python/3.11/lib/python/site-packages (from torch) (2025.7.0)\n",
      "Requirement already satisfied: mpmath<1.4,>=1.1.0 in /Users/bertrandmutangana/Library/Python/3.11/lib/python/site-packages (from sympy>=1.13.3->torch) (1.3.0)\n",
      "Requirement already satisfied: MarkupSafe>=2.0 in /Users/bertrandmutangana/Library/Python/3.11/lib/python/site-packages (from jinja2->torch) (3.0.2)\n",
      "\n",
      "\u001b[1m[\u001b[0m\u001b[34;49mnotice\u001b[0m\u001b[1;39;49m]\u001b[0m\u001b[39;49m A new release of pip is available: \u001b[0m\u001b[31;49m24.2\u001b[0m\u001b[39;49m -> \u001b[0m\u001b[32;49m25.1.1\u001b[0m\n",
      "\u001b[1m[\u001b[0m\u001b[34;49mnotice\u001b[0m\u001b[1;39;49m]\u001b[0m\u001b[39;49m To update, run: \u001b[0m\u001b[32;49mpython3.11 -m pip install --upgrade pip\u001b[0m\n",
      "Note: you may need to restart the kernel to use updated packages.\n"
     ]
    }
   ],
   "source": [
    "pip install torch"
   ]
  },
  {
   "cell_type": "code",
   "execution_count": 3,
   "id": "fd849e6a",
   "metadata": {},
   "outputs": [],
   "source": [
    "df = pd.read_csv('dataset/houseprice.csv',usecols=[\"SalePrice\", \"MSSubClass\", \"MSZoning\", \"LotFrontage\", \"LotArea\",\n",
    "                                         \"Street\", \"YearBuilt\", \"LotShape\", \"1stFlrSF\", \"2ndFlrSF\"]).dropna()"
   ]
  },
  {
   "cell_type": "markdown",
   "id": "b8924069",
   "metadata": {},
   "source": [
    "### Data exploration"
   ]
  },
  {
   "cell_type": "code",
   "execution_count": 4,
   "id": "01eec716",
   "metadata": {},
   "outputs": [
    {
     "data": {
      "text/html": [
       "<div>\n",
       "<style scoped>\n",
       "    .dataframe tbody tr th:only-of-type {\n",
       "        vertical-align: middle;\n",
       "    }\n",
       "\n",
       "    .dataframe tbody tr th {\n",
       "        vertical-align: top;\n",
       "    }\n",
       "\n",
       "    .dataframe thead th {\n",
       "        text-align: right;\n",
       "    }\n",
       "</style>\n",
       "<table border=\"1\" class=\"dataframe\">\n",
       "  <thead>\n",
       "    <tr style=\"text-align: right;\">\n",
       "      <th></th>\n",
       "      <th>MSSubClass</th>\n",
       "      <th>MSZoning</th>\n",
       "      <th>LotFrontage</th>\n",
       "      <th>LotArea</th>\n",
       "      <th>Street</th>\n",
       "      <th>LotShape</th>\n",
       "      <th>YearBuilt</th>\n",
       "      <th>1stFlrSF</th>\n",
       "      <th>2ndFlrSF</th>\n",
       "      <th>SalePrice</th>\n",
       "    </tr>\n",
       "  </thead>\n",
       "  <tbody>\n",
       "    <tr>\n",
       "      <th>0</th>\n",
       "      <td>60</td>\n",
       "      <td>RL</td>\n",
       "      <td>65.0</td>\n",
       "      <td>8450</td>\n",
       "      <td>Pave</td>\n",
       "      <td>Reg</td>\n",
       "      <td>2003</td>\n",
       "      <td>856</td>\n",
       "      <td>854</td>\n",
       "      <td>208500</td>\n",
       "    </tr>\n",
       "    <tr>\n",
       "      <th>1</th>\n",
       "      <td>20</td>\n",
       "      <td>RL</td>\n",
       "      <td>80.0</td>\n",
       "      <td>9600</td>\n",
       "      <td>Pave</td>\n",
       "      <td>Reg</td>\n",
       "      <td>1976</td>\n",
       "      <td>1262</td>\n",
       "      <td>0</td>\n",
       "      <td>181500</td>\n",
       "    </tr>\n",
       "    <tr>\n",
       "      <th>2</th>\n",
       "      <td>60</td>\n",
       "      <td>RL</td>\n",
       "      <td>68.0</td>\n",
       "      <td>11250</td>\n",
       "      <td>Pave</td>\n",
       "      <td>IR1</td>\n",
       "      <td>2001</td>\n",
       "      <td>920</td>\n",
       "      <td>866</td>\n",
       "      <td>223500</td>\n",
       "    </tr>\n",
       "    <tr>\n",
       "      <th>3</th>\n",
       "      <td>70</td>\n",
       "      <td>RL</td>\n",
       "      <td>60.0</td>\n",
       "      <td>9550</td>\n",
       "      <td>Pave</td>\n",
       "      <td>IR1</td>\n",
       "      <td>1915</td>\n",
       "      <td>961</td>\n",
       "      <td>756</td>\n",
       "      <td>140000</td>\n",
       "    </tr>\n",
       "    <tr>\n",
       "      <th>4</th>\n",
       "      <td>60</td>\n",
       "      <td>RL</td>\n",
       "      <td>84.0</td>\n",
       "      <td>14260</td>\n",
       "      <td>Pave</td>\n",
       "      <td>IR1</td>\n",
       "      <td>2000</td>\n",
       "      <td>1145</td>\n",
       "      <td>1053</td>\n",
       "      <td>250000</td>\n",
       "    </tr>\n",
       "  </tbody>\n",
       "</table>\n",
       "</div>"
      ],
      "text/plain": [
       "   MSSubClass MSZoning  LotFrontage  LotArea Street LotShape  YearBuilt  \\\n",
       "0          60       RL         65.0     8450   Pave      Reg       2003   \n",
       "1          20       RL         80.0     9600   Pave      Reg       1976   \n",
       "2          60       RL         68.0    11250   Pave      IR1       2001   \n",
       "3          70       RL         60.0     9550   Pave      IR1       1915   \n",
       "4          60       RL         84.0    14260   Pave      IR1       2000   \n",
       "\n",
       "   1stFlrSF  2ndFlrSF  SalePrice  \n",
       "0       856       854     208500  \n",
       "1      1262         0     181500  \n",
       "2       920       866     223500  \n",
       "3       961       756     140000  \n",
       "4      1145      1053     250000  "
      ]
     },
     "execution_count": 4,
     "metadata": {},
     "output_type": "execute_result"
    }
   ],
   "source": [
    "df.head()"
   ]
  },
  {
   "cell_type": "code",
   "execution_count": 5,
   "id": "a45b3b68",
   "metadata": {},
   "outputs": [
    {
     "name": "stdout",
     "output_type": "stream",
     "text": [
      "<class 'pandas.core.frame.DataFrame'>\n",
      "Index: 1201 entries, 0 to 1459\n",
      "Data columns (total 10 columns):\n",
      " #   Column       Non-Null Count  Dtype  \n",
      "---  ------       --------------  -----  \n",
      " 0   MSSubClass   1201 non-null   int64  \n",
      " 1   MSZoning     1201 non-null   object \n",
      " 2   LotFrontage  1201 non-null   float64\n",
      " 3   LotArea      1201 non-null   int64  \n",
      " 4   Street       1201 non-null   object \n",
      " 5   LotShape     1201 non-null   object \n",
      " 6   YearBuilt    1201 non-null   int64  \n",
      " 7   1stFlrSF     1201 non-null   int64  \n",
      " 8   2ndFlrSF     1201 non-null   int64  \n",
      " 9   SalePrice    1201 non-null   int64  \n",
      "dtypes: float64(1), int64(6), object(3)\n",
      "memory usage: 103.2+ KB\n"
     ]
    }
   ],
   "source": [
    "df.info()"
   ]
  },
  {
   "cell_type": "markdown",
   "id": "6fa0499a",
   "metadata": {},
   "source": [
    "### Identify categorical features and continuous features"
   ]
  },
  {
   "cell_type": "code",
   "execution_count": 6,
   "id": "65860a20",
   "metadata": {},
   "outputs": [
    {
     "name": "stdout",
     "output_type": "stream",
     "text": [
      "Column MSSubClass has total of 15\n",
      "Column MSZoning has total of 5\n",
      "Column LotFrontage has total of 110\n",
      "Column LotArea has total of 869\n",
      "Column Street has total of 2\n",
      "Column LotShape has total of 4\n",
      "Column YearBuilt has total of 112\n",
      "Column 1stFlrSF has total of 678\n",
      "Column 2ndFlrSF has total of 368\n",
      "Column SalePrice has total of 597\n"
     ]
    }
   ],
   "source": [
    "for i in df.columns:\n",
    "    print(f\"Column {i} has total of {len(df[i].unique())}\")"
   ]
  },
  {
   "cell_type": "markdown",
   "id": "190e0cc6",
   "metadata": {},
   "source": [
    "#### Create TotalYears feature"
   ]
  },
  {
   "cell_type": "code",
   "execution_count": 7,
   "id": "ddecb389",
   "metadata": {},
   "outputs": [],
   "source": [
    "import datetime\n",
    "df[\"TotalYears\"] = datetime.datetime.now().year - df[\"YearBuilt\"]"
   ]
  },
  {
   "cell_type": "code",
   "execution_count": 8,
   "id": "93b7dfb5",
   "metadata": {},
   "outputs": [],
   "source": [
    "df.drop(\"YearBuilt\", axis=1, inplace=True)"
   ]
  },
  {
   "cell_type": "markdown",
   "id": "17e2c4d6",
   "metadata": {},
   "source": [
    "### Split features between categorical and continuous(or numerical)"
   ]
  },
  {
   "cell_type": "code",
   "execution_count": 9,
   "id": "3cf8fd5f",
   "metadata": {},
   "outputs": [],
   "source": [
    "cat_features=[\"MSSubClass\", \"MSZoning\", \"Street\", \"LotShape\"]\n",
    "out_feature=\"SalePrice\""
   ]
  },
  {
   "cell_type": "code",
   "execution_count": 10,
   "id": "34129786",
   "metadata": {},
   "outputs": [],
   "source": [
    "from sklearn.preprocessing import LabelEncoder\n",
    "lbl_encoders={}\n",
    "for feature in cat_features:\n",
    "    lbl_encoders[feature]=LabelEncoder()\n",
    "    df[feature]=lbl_encoders[feature].fit_transform(df[feature])"
   ]
  },
  {
   "cell_type": "markdown",
   "id": "a2dbb171",
   "metadata": {},
   "source": [
    "### Stacking and Converting Into Tensors"
   ]
  },
  {
   "cell_type": "code",
   "execution_count": 11,
   "id": "69063391",
   "metadata": {},
   "outputs": [
    {
     "data": {
      "text/plain": [
       "array([[5, 3, 1, 3],\n",
       "       [0, 3, 1, 3],\n",
       "       [5, 3, 1, 0],\n",
       "       ...,\n",
       "       [6, 3, 1, 3],\n",
       "       [0, 3, 1, 3],\n",
       "       [0, 3, 1, 3]])"
      ]
     },
     "execution_count": 11,
     "metadata": {},
     "output_type": "execute_result"
    }
   ],
   "source": [
    "cat_features=np.stack([df['MSSubClass'],df['MSZoning'],df['Street'],df['LotShape']],1)\n",
    "cat_features"
   ]
  },
  {
   "cell_type": "markdown",
   "id": "de3cc947",
   "metadata": {},
   "source": [
    "### Convert numpy to Tensors"
   ]
  },
  {
   "cell_type": "code",
   "execution_count": 12,
   "id": "22038785",
   "metadata": {},
   "outputs": [
    {
     "data": {
      "text/plain": [
       "tensor([[5, 3, 1, 3],\n",
       "        [0, 3, 1, 3],\n",
       "        [5, 3, 1, 0],\n",
       "        ...,\n",
       "        [6, 3, 1, 3],\n",
       "        [0, 3, 1, 3],\n",
       "        [0, 3, 1, 3]])"
      ]
     },
     "execution_count": 12,
     "metadata": {},
     "output_type": "execute_result"
    }
   ],
   "source": [
    "import torch\n",
    "cat_features=torch.tensor(cat_features,dtype=torch.int64)\n",
    "cat_features"
   ]
  },
  {
   "cell_type": "markdown",
   "id": "8e0d67dd",
   "metadata": {},
   "source": [
    "#### Create continuous variable"
   ]
  },
  {
   "cell_type": "code",
   "execution_count": 13,
   "id": "f8e1a890",
   "metadata": {},
   "outputs": [],
   "source": [
    "cont_features=[]\n",
    "for i in df.columns:\n",
    "    if i in [\"MSSubClass\", \"MSZoning\", \"Street\", \"LotShape\",\"SalePrice\"]:\n",
    "        pass\n",
    "    else:\n",
    "        cont_features.append(i)\n"
   ]
  },
  {
   "cell_type": "markdown",
   "id": "bc71c668",
   "metadata": {},
   "source": [
    "### Stacking continuous variable to a tensor"
   ]
  },
  {
   "cell_type": "code",
   "execution_count": 14,
   "id": "3421aca3",
   "metadata": {},
   "outputs": [
    {
     "data": {
      "text/plain": [
       "tensor([[   65.,  8450.,   856.,   854.,    22.],\n",
       "        [   80.,  9600.,  1262.,     0.,    49.],\n",
       "        [   68., 11250.,   920.,   866.,    24.],\n",
       "        ...,\n",
       "        [   66.,  9042.,  1188.,  1152.,    84.],\n",
       "        [   68.,  9717.,  1078.,     0.,    75.],\n",
       "        [   75.,  9937.,  1256.,     0.,    60.]])"
      ]
     },
     "execution_count": 14,
     "metadata": {},
     "output_type": "execute_result"
    }
   ],
   "source": [
    "cont_values=np.stack([df[i].values for i in cont_features],axis=1)\n",
    "cont_values=torch.tensor(cont_values,dtype=torch.float)\n",
    "cont_values"
   ]
  },
  {
   "cell_type": "markdown",
   "id": "9473bab8",
   "metadata": {},
   "source": [
    "### Tensor For Dependent Feature "
   ]
  },
  {
   "cell_type": "code",
   "execution_count": 15,
   "id": "d3ccc492",
   "metadata": {},
   "outputs": [],
   "source": [
    "y=torch.tensor(df['SalePrice'].values,dtype=torch.float).reshape(-1,1)"
   ]
  },
  {
   "cell_type": "markdown",
   "id": "24aa822d",
   "metadata": {},
   "source": [
    "## Embedding Size For Categorical columns"
   ]
  },
  {
   "cell_type": "code",
   "execution_count": 16,
   "id": "7b1a3b2d",
   "metadata": {},
   "outputs": [],
   "source": [
    "cat_dims=[len(df[col].unique()) for col in [\"MSSubClass\", \"MSZoning\", \"Street\", \"LotShape\"]]"
   ]
  },
  {
   "cell_type": "code",
   "execution_count": 17,
   "id": "a9bbe603",
   "metadata": {},
   "outputs": [
    {
     "data": {
      "text/plain": [
       "[15, 5, 2, 4]"
      ]
     },
     "execution_count": 17,
     "metadata": {},
     "output_type": "execute_result"
    }
   ],
   "source": [
    "cat_dims"
   ]
  },
  {
   "cell_type": "markdown",
   "id": "d96042c3",
   "metadata": {},
   "source": [
    "### Thumb rule: Output dimension should be set based on the input dimension [min(50, feature_dimension//2)]"
   ]
  },
  {
   "cell_type": "code",
   "execution_count": 18,
   "id": "4cf95f4e",
   "metadata": {},
   "outputs": [],
   "source": [
    "embedding_dim= [(x, min(50, (x + 1) // 2)) for x in cat_dims]"
   ]
  },
  {
   "cell_type": "code",
   "execution_count": 19,
   "id": "8eaa5698",
   "metadata": {},
   "outputs": [
    {
     "data": {
      "text/plain": [
       "[(15, 8), (5, 3), (2, 1), (4, 2)]"
      ]
     },
     "execution_count": 19,
     "metadata": {},
     "output_type": "execute_result"
    }
   ],
   "source": [
    "embedding_dim"
   ]
  },
  {
   "cell_type": "markdown",
   "id": "711d703a",
   "metadata": {},
   "source": [
    "### Creating NN"
   ]
  },
  {
   "cell_type": "code",
   "execution_count": 20,
   "id": "01d2732f",
   "metadata": {},
   "outputs": [],
   "source": [
    "##### Create a Feed Forward Neural Network\n",
    "import torch\n",
    "import torch.nn as nn\n",
    "import torch.nn.functional as F\n",
    "class FeedForwardNN(nn.Module):\n",
    "\n",
    "    def __init__(self, embedding_dim, n_cont, out_sz, layers, p=0.5):\n",
    "        super().__init__()\n",
    "        self.embeds = nn.ModuleList([nn.Embedding(inp,out) for inp,out in embedding_dim])\n",
    "        self.emb_drop = nn.Dropout(p)\n",
    "        self.bn_cont = nn.BatchNorm1d(n_cont)\n",
    "        \n",
    "        layerlist = []\n",
    "        n_emb = sum((out for inp,out in embedding_dim))\n",
    "        n_in = n_emb + n_cont\n",
    "        \n",
    "        for i in layers:\n",
    "            layerlist.append(nn.Linear(n_in,i)) \n",
    "            layerlist.append(nn.ReLU(inplace=True))\n",
    "            layerlist.append(nn.BatchNorm1d(i))\n",
    "            layerlist.append(nn.Dropout(p))\n",
    "            n_in = i\n",
    "        layerlist.append(nn.Linear(layers[-1],out_sz))\n",
    "            \n",
    "        self.layers = nn.Sequential(*layerlist)\n",
    "    \n",
    "    def forward(self, x_cat, x_cont):\n",
    "        embeddings = []\n",
    "        for i,e in enumerate(self.embeds):\n",
    "            embeddings.append(e(x_cat[:,i]))\n",
    "        x = torch.cat(embeddings, 1)\n",
    "        x = self.emb_drop(x)\n",
    "        \n",
    "        x_cont = self.bn_cont(x_cont)\n",
    "        x = torch.cat([x, x_cont], 1)\n",
    "        x = self.layers(x)\n",
    "        return x"
   ]
  },
  {
   "cell_type": "code",
   "execution_count": 21,
   "id": "1ba1208c",
   "metadata": {},
   "outputs": [
    {
     "data": {
      "text/plain": [
       "5"
      ]
     },
     "execution_count": 21,
     "metadata": {},
     "output_type": "execute_result"
    }
   ],
   "source": [
    "len(cont_features)"
   ]
  },
  {
   "cell_type": "code",
   "execution_count": 22,
   "id": "4d12ebc4",
   "metadata": {},
   "outputs": [],
   "source": [
    "torch.manual_seed(100)\n",
    "model=FeedForwardNN(embedding_dim,len(cont_features),1,[100,50],p=0.4)"
   ]
  },
  {
   "cell_type": "code",
   "execution_count": 23,
   "id": "b6493664",
   "metadata": {},
   "outputs": [
    {
     "data": {
      "text/plain": [
       "FeedForwardNN(\n",
       "  (embeds): ModuleList(\n",
       "    (0): Embedding(15, 8)\n",
       "    (1): Embedding(5, 3)\n",
       "    (2): Embedding(2, 1)\n",
       "    (3): Embedding(4, 2)\n",
       "  )\n",
       "  (emb_drop): Dropout(p=0.4, inplace=False)\n",
       "  (bn_cont): BatchNorm1d(5, eps=1e-05, momentum=0.1, affine=True, track_running_stats=True)\n",
       "  (layers): Sequential(\n",
       "    (0): Linear(in_features=19, out_features=100, bias=True)\n",
       "    (1): ReLU(inplace=True)\n",
       "    (2): BatchNorm1d(100, eps=1e-05, momentum=0.1, affine=True, track_running_stats=True)\n",
       "    (3): Dropout(p=0.4, inplace=False)\n",
       "    (4): Linear(in_features=100, out_features=50, bias=True)\n",
       "    (5): ReLU(inplace=True)\n",
       "    (6): BatchNorm1d(50, eps=1e-05, momentum=0.1, affine=True, track_running_stats=True)\n",
       "    (7): Dropout(p=0.4, inplace=False)\n",
       "    (8): Linear(in_features=50, out_features=1, bias=True)\n",
       "  )\n",
       ")"
      ]
     },
     "execution_count": 23,
     "metadata": {},
     "output_type": "execute_result"
    }
   ],
   "source": [
    "model"
   ]
  },
  {
   "cell_type": "markdown",
   "id": "dc37ab58",
   "metadata": {},
   "source": [
    "### Define Loss and Optimiser"
   ]
  },
  {
   "cell_type": "code",
   "execution_count": 24,
   "id": "32dff4c9",
   "metadata": {},
   "outputs": [],
   "source": [
    "loss_function=nn.MSELoss()\n",
    "optimizer=torch.optim.Adam(model.parameters(),lr=0.01)"
   ]
  },
  {
   "cell_type": "code",
   "execution_count": 25,
   "id": "5862fb34",
   "metadata": {},
   "outputs": [
    {
     "data": {
      "text/plain": [
       "(1201, 10)"
      ]
     },
     "execution_count": 25,
     "metadata": {},
     "output_type": "execute_result"
    }
   ],
   "source": [
    "df.shape"
   ]
  },
  {
   "cell_type": "code",
   "execution_count": 26,
   "id": "1d48cbf6",
   "metadata": {},
   "outputs": [
    {
     "data": {
      "text/plain": [
       "tensor([[   65.,  8450.,   856.,   854.,    22.],\n",
       "        [   80.,  9600.,  1262.,     0.,    49.],\n",
       "        [   68., 11250.,   920.,   866.,    24.],\n",
       "        ...,\n",
       "        [   66.,  9042.,  1188.,  1152.,    84.],\n",
       "        [   68.,  9717.,  1078.,     0.,    75.],\n",
       "        [   75.,  9937.,  1256.,     0.,    60.]])"
      ]
     },
     "execution_count": 26,
     "metadata": {},
     "output_type": "execute_result"
    }
   ],
   "source": [
    "cont_values"
   ]
  },
  {
   "cell_type": "code",
   "execution_count": 27,
   "id": "3335a119",
   "metadata": {},
   "outputs": [
    {
     "data": {
      "text/plain": [
       "torch.Size([1201, 5])"
      ]
     },
     "execution_count": 27,
     "metadata": {},
     "output_type": "execute_result"
    }
   ],
   "source": [
    "cont_values.shape"
   ]
  },
  {
   "cell_type": "code",
   "execution_count": 28,
   "id": "254273b5",
   "metadata": {},
   "outputs": [],
   "source": [
    "batch_size=1200\n",
    "test_size=int(batch_size*0.15)\n",
    "train_categorical=cat_features[:batch_size-test_size]\n",
    "test_categorical=cat_features[batch_size-test_size:batch_size]\n",
    "train_cont=cont_values[:batch_size-test_size]\n",
    "test_cont=cont_values[batch_size-test_size:batch_size]\n",
    "y_train=y[:batch_size-test_size]\n",
    "y_test=y[batch_size-test_size:batch_size]"
   ]
  },
  {
   "cell_type": "code",
   "execution_count": 29,
   "id": "9852214e",
   "metadata": {},
   "outputs": [
    {
     "data": {
      "text/plain": [
       "(1020, 180, 1020, 180, 1020, 180)"
      ]
     },
     "execution_count": 29,
     "metadata": {},
     "output_type": "execute_result"
    }
   ],
   "source": [
    "len(train_categorical),len(test_categorical),len(train_cont),len(test_cont),len(y_train),len(y_test)"
   ]
  },
  {
   "cell_type": "markdown",
   "id": "6255a69e",
   "metadata": {},
   "source": [
    "### Training the model"
   ]
  },
  {
   "cell_type": "code",
   "execution_count": 30,
   "id": "ba70cf84",
   "metadata": {},
   "outputs": [
    {
     "name": "stdout",
     "output_type": "stream",
     "text": [
      "Epoch number: 1 and the loss : 200496.765625\n",
      "Epoch number: 11 and the loss : 200493.578125\n",
      "Epoch number: 21 and the loss : 200489.125\n",
      "Epoch number: 31 and the loss : 200482.546875\n",
      "Epoch number: 41 and the loss : 200473.234375\n",
      "Epoch number: 51 and the loss : 200462.140625\n",
      "Epoch number: 61 and the loss : 200447.3125\n",
      "Epoch number: 71 and the loss : 200429.125\n",
      "Epoch number: 81 and the loss : 200409.15625\n",
      "Epoch number: 91 and the loss : 200382.0625\n",
      "Epoch number: 101 and the loss : 200354.703125\n",
      "Epoch number: 111 and the loss : 200322.890625\n",
      "Epoch number: 121 and the loss : 200290.25\n",
      "Epoch number: 131 and the loss : 200254.09375\n",
      "Epoch number: 141 and the loss : 200212.8125\n",
      "Epoch number: 151 and the loss : 200162.34375\n",
      "Epoch number: 161 and the loss : 200116.0\n",
      "Epoch number: 171 and the loss : 200057.453125\n",
      "Epoch number: 181 and the loss : 200002.0625\n",
      "Epoch number: 191 and the loss : 199942.40625\n",
      "Epoch number: 201 and the loss : 199877.234375\n",
      "Epoch number: 211 and the loss : 199808.1875\n",
      "Epoch number: 221 and the loss : 199749.859375\n",
      "Epoch number: 231 and the loss : 199665.25\n",
      "Epoch number: 241 and the loss : 199596.59375\n",
      "Epoch number: 251 and the loss : 199522.40625\n",
      "Epoch number: 261 and the loss : 199415.4375\n",
      "Epoch number: 271 and the loss : 199330.71875\n",
      "Epoch number: 281 and the loss : 199237.0625\n",
      "Epoch number: 291 and the loss : 199149.46875\n",
      "Epoch number: 301 and the loss : 199039.5625\n",
      "Epoch number: 311 and the loss : 198928.78125\n",
      "Epoch number: 321 and the loss : 198814.71875\n",
      "Epoch number: 331 and the loss : 198733.453125\n",
      "Epoch number: 341 and the loss : 198611.984375\n",
      "Epoch number: 351 and the loss : 198469.1875\n",
      "Epoch number: 361 and the loss : 198409.65625\n",
      "Epoch number: 371 and the loss : 198214.484375\n",
      "Epoch number: 381 and the loss : 198097.09375\n",
      "Epoch number: 391 and the loss : 197976.890625\n",
      "Epoch number: 401 and the loss : 197874.734375\n",
      "Epoch number: 411 and the loss : 197721.765625\n",
      "Epoch number: 421 and the loss : 197529.796875\n",
      "Epoch number: 431 and the loss : 197458.875\n",
      "Epoch number: 441 and the loss : 197306.765625\n",
      "Epoch number: 451 and the loss : 197113.234375\n",
      "Epoch number: 461 and the loss : 196977.390625\n",
      "Epoch number: 471 and the loss : 196844.015625\n",
      "Epoch number: 481 and the loss : 196671.1875\n",
      "Epoch number: 491 and the loss : 196517.0\n",
      "Epoch number: 501 and the loss : 196369.484375\n",
      "Epoch number: 511 and the loss : 196143.53125\n",
      "Epoch number: 521 and the loss : 196034.4375\n",
      "Epoch number: 531 and the loss : 195774.65625\n",
      "Epoch number: 541 and the loss : 195645.890625\n",
      "Epoch number: 551 and the loss : 195510.9375\n",
      "Epoch number: 561 and the loss : 195203.140625\n",
      "Epoch number: 571 and the loss : 195110.40625\n",
      "Epoch number: 581 and the loss : 194877.15625\n",
      "Epoch number: 591 and the loss : 194721.0\n",
      "Epoch number: 601 and the loss : 194442.53125\n",
      "Epoch number: 611 and the loss : 194303.484375\n",
      "Epoch number: 621 and the loss : 194061.234375\n",
      "Epoch number: 631 and the loss : 193853.828125\n",
      "Epoch number: 641 and the loss : 193674.484375\n",
      "Epoch number: 651 and the loss : 193544.3125\n",
      "Epoch number: 661 and the loss : 193243.015625\n",
      "Epoch number: 671 and the loss : 193027.71875\n",
      "Epoch number: 681 and the loss : 192840.375\n",
      "Epoch number: 691 and the loss : 192608.21875\n",
      "Epoch number: 701 and the loss : 192300.359375\n",
      "Epoch number: 711 and the loss : 192043.828125\n",
      "Epoch number: 721 and the loss : 192053.84375\n",
      "Epoch number: 731 and the loss : 191759.171875\n",
      "Epoch number: 741 and the loss : 191348.640625\n",
      "Epoch number: 751 and the loss : 191268.5\n",
      "Epoch number: 761 and the loss : 191010.4375\n",
      "Epoch number: 771 and the loss : 190759.890625\n",
      "Epoch number: 781 and the loss : 190451.90625\n",
      "Epoch number: 791 and the loss : 190265.65625\n",
      "Epoch number: 801 and the loss : 190082.203125\n",
      "Epoch number: 811 and the loss : 189774.328125\n",
      "Epoch number: 821 and the loss : 189402.109375\n",
      "Epoch number: 831 and the loss : 189206.375\n",
      "Epoch number: 841 and the loss : 188959.140625\n",
      "Epoch number: 851 and the loss : 188667.375\n",
      "Epoch number: 861 and the loss : 188440.234375\n",
      "Epoch number: 871 and the loss : 188217.921875\n",
      "Epoch number: 881 and the loss : 187743.65625\n",
      "Epoch number: 891 and the loss : 187514.46875\n",
      "Epoch number: 901 and the loss : 187308.40625\n",
      "Epoch number: 911 and the loss : 186966.8125\n",
      "Epoch number: 921 and the loss : 186797.75\n",
      "Epoch number: 931 and the loss : 186522.140625\n",
      "Epoch number: 941 and the loss : 186214.25\n",
      "Epoch number: 951 and the loss : 185852.9375\n",
      "Epoch number: 961 and the loss : 185577.3125\n",
      "Epoch number: 971 and the loss : 185173.765625\n",
      "Epoch number: 981 and the loss : 184921.03125\n",
      "Epoch number: 991 and the loss : 184818.5625\n",
      "Epoch number: 1001 and the loss : 184446.09375\n",
      "Epoch number: 1011 and the loss : 184178.328125\n",
      "Epoch number: 1021 and the loss : 183693.625\n",
      "Epoch number: 1031 and the loss : 183535.0\n",
      "Epoch number: 1041 and the loss : 182986.90625\n",
      "Epoch number: 1051 and the loss : 182700.34375\n",
      "Epoch number: 1061 and the loss : 182511.78125\n",
      "Epoch number: 1071 and the loss : 182345.671875\n",
      "Epoch number: 1081 and the loss : 181694.265625\n",
      "Epoch number: 1091 and the loss : 181629.625\n",
      "Epoch number: 1101 and the loss : 181174.453125\n",
      "Epoch number: 1111 and the loss : 180772.328125\n",
      "Epoch number: 1121 and the loss : 180566.53125\n",
      "Epoch number: 1131 and the loss : 180323.75\n",
      "Epoch number: 1141 and the loss : 179777.859375\n",
      "Epoch number: 1151 and the loss : 179387.46875\n",
      "Epoch number: 1161 and the loss : 179339.78125\n",
      "Epoch number: 1171 and the loss : 179375.15625\n",
      "Epoch number: 1181 and the loss : 178609.9375\n",
      "Epoch number: 1191 and the loss : 178239.34375\n",
      "Epoch number: 1201 and the loss : 177565.71875\n",
      "Epoch number: 1211 and the loss : 177296.765625\n",
      "Epoch number: 1221 and the loss : 177220.4375\n",
      "Epoch number: 1231 and the loss : 176802.203125\n",
      "Epoch number: 1241 and the loss : 176578.15625\n",
      "Epoch number: 1251 and the loss : 176388.359375\n",
      "Epoch number: 1261 and the loss : 175273.859375\n",
      "Epoch number: 1271 and the loss : 175314.03125\n",
      "Epoch number: 1281 and the loss : 174687.46875\n",
      "Epoch number: 1291 and the loss : 174654.21875\n",
      "Epoch number: 1301 and the loss : 173845.796875\n",
      "Epoch number: 1311 and the loss : 173729.6875\n",
      "Epoch number: 1321 and the loss : 173644.84375\n",
      "Epoch number: 1331 and the loss : 172981.421875\n",
      "Epoch number: 1341 and the loss : 172440.125\n",
      "Epoch number: 1351 and the loss : 172546.203125\n",
      "Epoch number: 1361 and the loss : 171980.890625\n",
      "Epoch number: 1371 and the loss : 171574.171875\n",
      "Epoch number: 1381 and the loss : 171039.234375\n",
      "Epoch number: 1391 and the loss : 170514.453125\n",
      "Epoch number: 1401 and the loss : 170666.0\n",
      "Epoch number: 1411 and the loss : 169796.1875\n",
      "Epoch number: 1421 and the loss : 169764.40625\n",
      "Epoch number: 1431 and the loss : 169221.8125\n",
      "Epoch number: 1441 and the loss : 169042.71875\n",
      "Epoch number: 1451 and the loss : 168246.71875\n",
      "Epoch number: 1461 and the loss : 167941.453125\n",
      "Epoch number: 1471 and the loss : 167850.53125\n",
      "Epoch number: 1481 and the loss : 167345.875\n",
      "Epoch number: 1491 and the loss : 166856.109375\n",
      "Epoch number: 1501 and the loss : 166391.96875\n",
      "Epoch number: 1511 and the loss : 165994.421875\n",
      "Epoch number: 1521 and the loss : 165564.5625\n",
      "Epoch number: 1531 and the loss : 164858.609375\n",
      "Epoch number: 1541 and the loss : 164418.421875\n",
      "Epoch number: 1551 and the loss : 164272.421875\n",
      "Epoch number: 1561 and the loss : 163920.375\n",
      "Epoch number: 1571 and the loss : 163597.21875\n",
      "Epoch number: 1581 and the loss : 162811.109375\n",
      "Epoch number: 1591 and the loss : 162996.59375\n",
      "Epoch number: 1601 and the loss : 162141.59375\n",
      "Epoch number: 1611 and the loss : 161449.859375\n",
      "Epoch number: 1621 and the loss : 161574.765625\n",
      "Epoch number: 1631 and the loss : 161434.234375\n",
      "Epoch number: 1641 and the loss : 160052.390625\n",
      "Epoch number: 1651 and the loss : 159743.640625\n",
      "Epoch number: 1661 and the loss : 160144.734375\n",
      "Epoch number: 1671 and the loss : 159115.359375\n",
      "Epoch number: 1681 and the loss : 158863.203125\n",
      "Epoch number: 1691 and the loss : 158331.265625\n",
      "Epoch number: 1701 and the loss : 158027.84375\n",
      "Epoch number: 1711 and the loss : 157136.28125\n",
      "Epoch number: 1721 and the loss : 156836.03125\n",
      "Epoch number: 1731 and the loss : 156636.765625\n",
      "Epoch number: 1741 and the loss : 156008.703125\n",
      "Epoch number: 1751 and the loss : 156162.78125\n",
      "Epoch number: 1761 and the loss : 155171.015625\n",
      "Epoch number: 1771 and the loss : 154708.59375\n",
      "Epoch number: 1781 and the loss : 154001.46875\n",
      "Epoch number: 1791 and the loss : 154008.328125\n",
      "Epoch number: 1801 and the loss : 153666.453125\n",
      "Epoch number: 1811 and the loss : 153000.390625\n",
      "Epoch number: 1821 and the loss : 152246.703125\n",
      "Epoch number: 1831 and the loss : 151427.390625\n",
      "Epoch number: 1841 and the loss : 151653.421875\n",
      "Epoch number: 1851 and the loss : 151389.46875\n",
      "Epoch number: 1861 and the loss : 150599.4375\n",
      "Epoch number: 1871 and the loss : 150331.234375\n",
      "Epoch number: 1881 and the loss : 150102.140625\n",
      "Epoch number: 1891 and the loss : 149248.640625\n",
      "Epoch number: 1901 and the loss : 149432.53125\n",
      "Epoch number: 1911 and the loss : 148342.09375\n",
      "Epoch number: 1921 and the loss : 147348.640625\n",
      "Epoch number: 1931 and the loss : 147735.046875\n",
      "Epoch number: 1941 and the loss : 146778.3125\n",
      "Epoch number: 1951 and the loss : 145991.765625\n",
      "Epoch number: 1961 and the loss : 146355.21875\n",
      "Epoch number: 1971 and the loss : 146015.734375\n",
      "Epoch number: 1981 and the loss : 145427.40625\n",
      "Epoch number: 1991 and the loss : 144556.875\n",
      "Epoch number: 2001 and the loss : 143834.5\n",
      "Epoch number: 2011 and the loss : 143593.03125\n",
      "Epoch number: 2021 and the loss : 142131.78125\n",
      "Epoch number: 2031 and the loss : 142243.921875\n",
      "Epoch number: 2041 and the loss : 142613.140625\n",
      "Epoch number: 2051 and the loss : 141609.21875\n",
      "Epoch number: 2061 and the loss : 141286.796875\n",
      "Epoch number: 2071 and the loss : 140939.515625\n",
      "Epoch number: 2081 and the loss : 139836.140625\n",
      "Epoch number: 2091 and the loss : 140878.5625\n",
      "Epoch number: 2101 and the loss : 138987.078125\n",
      "Epoch number: 2111 and the loss : 139406.90625\n",
      "Epoch number: 2121 and the loss : 137709.0625\n",
      "Epoch number: 2131 and the loss : 137325.015625\n",
      "Epoch number: 2141 and the loss : 137186.0625\n",
      "Epoch number: 2151 and the loss : 136859.90625\n",
      "Epoch number: 2161 and the loss : 136856.0\n",
      "Epoch number: 2171 and the loss : 135824.796875\n",
      "Epoch number: 2181 and the loss : 135848.5625\n",
      "Epoch number: 2191 and the loss : 134491.140625\n",
      "Epoch number: 2201 and the loss : 135344.59375\n",
      "Epoch number: 2211 and the loss : 133863.015625\n",
      "Epoch number: 2221 and the loss : 133352.125\n",
      "Epoch number: 2231 and the loss : 132649.390625\n",
      "Epoch number: 2241 and the loss : 131904.625\n",
      "Epoch number: 2251 and the loss : 131364.609375\n",
      "Epoch number: 2261 and the loss : 131169.140625\n",
      "Epoch number: 2271 and the loss : 130623.0859375\n",
      "Epoch number: 2281 and the loss : 130741.3984375\n",
      "Epoch number: 2291 and the loss : 129621.859375\n",
      "Epoch number: 2301 and the loss : 128625.046875\n",
      "Epoch number: 2311 and the loss : 129648.9921875\n",
      "Epoch number: 2321 and the loss : 128846.2734375\n",
      "Epoch number: 2331 and the loss : 128269.4453125\n",
      "Epoch number: 2341 and the loss : 127127.4375\n",
      "Epoch number: 2351 and the loss : 126717.6171875\n",
      "Epoch number: 2361 and the loss : 125927.8671875\n",
      "Epoch number: 2371 and the loss : 125479.0078125\n",
      "Epoch number: 2381 and the loss : 125248.890625\n",
      "Epoch number: 2391 and the loss : 124625.1953125\n",
      "Epoch number: 2401 and the loss : 124095.46875\n",
      "Epoch number: 2411 and the loss : 123885.8828125\n",
      "Epoch number: 2421 and the loss : 123809.984375\n",
      "Epoch number: 2431 and the loss : 123211.5625\n",
      "Epoch number: 2441 and the loss : 121980.09375\n",
      "Epoch number: 2451 and the loss : 122097.359375\n",
      "Epoch number: 2461 and the loss : 121222.3671875\n",
      "Epoch number: 2471 and the loss : 120778.84375\n",
      "Epoch number: 2481 and the loss : 120391.078125\n",
      "Epoch number: 2491 and the loss : 119891.5703125\n",
      "Epoch number: 2501 and the loss : 119632.0390625\n",
      "Epoch number: 2511 and the loss : 118682.9375\n",
      "Epoch number: 2521 and the loss : 118022.4140625\n",
      "Epoch number: 2531 and the loss : 118462.9296875\n",
      "Epoch number: 2541 and the loss : 116850.0\n",
      "Epoch number: 2551 and the loss : 117065.8515625\n",
      "Epoch number: 2561 and the loss : 116251.5546875\n",
      "Epoch number: 2571 and the loss : 116048.890625\n",
      "Epoch number: 2581 and the loss : 114900.4453125\n",
      "Epoch number: 2591 and the loss : 114717.640625\n",
      "Epoch number: 2601 and the loss : 114314.25\n",
      "Epoch number: 2611 and the loss : 113089.3359375\n",
      "Epoch number: 2621 and the loss : 113136.015625\n",
      "Epoch number: 2631 and the loss : 111771.109375\n",
      "Epoch number: 2641 and the loss : 112240.4453125\n",
      "Epoch number: 2651 and the loss : 111820.9140625\n",
      "Epoch number: 2661 and the loss : 109783.671875\n",
      "Epoch number: 2671 and the loss : 111180.8359375\n",
      "Epoch number: 2681 and the loss : 110108.8203125\n",
      "Epoch number: 2691 and the loss : 109789.171875\n",
      "Epoch number: 2701 and the loss : 108884.84375\n",
      "Epoch number: 2711 and the loss : 109390.8359375\n",
      "Epoch number: 2721 and the loss : 108595.734375\n",
      "Epoch number: 2731 and the loss : 107794.7734375\n",
      "Epoch number: 2741 and the loss : 107608.71875\n",
      "Epoch number: 2751 and the loss : 107219.4921875\n",
      "Epoch number: 2761 and the loss : 107044.3515625\n",
      "Epoch number: 2771 and the loss : 105397.0703125\n",
      "Epoch number: 2781 and the loss : 106050.3125\n",
      "Epoch number: 2791 and the loss : 105717.3515625\n",
      "Epoch number: 2801 and the loss : 104233.6796875\n",
      "Epoch number: 2811 and the loss : 103964.84375\n",
      "Epoch number: 2821 and the loss : 104646.1328125\n",
      "Epoch number: 2831 and the loss : 102920.90625\n",
      "Epoch number: 2841 and the loss : 102062.2109375\n",
      "Epoch number: 2851 and the loss : 102334.9296875\n",
      "Epoch number: 2861 and the loss : 101771.78125\n",
      "Epoch number: 2871 and the loss : 100842.6015625\n",
      "Epoch number: 2881 and the loss : 101383.7890625\n",
      "Epoch number: 2891 and the loss : 100650.34375\n",
      "Epoch number: 2901 and the loss : 99147.3515625\n",
      "Epoch number: 2911 and the loss : 99360.53125\n",
      "Epoch number: 2921 and the loss : 97812.25\n",
      "Epoch number: 2931 and the loss : 98563.6484375\n",
      "Epoch number: 2941 and the loss : 96826.578125\n",
      "Epoch number: 2951 and the loss : 96170.2578125\n",
      "Epoch number: 2961 and the loss : 96497.59375\n",
      "Epoch number: 2971 and the loss : 97004.28125\n",
      "Epoch number: 2981 and the loss : 95558.2734375\n",
      "Epoch number: 2991 and the loss : 94750.9140625\n",
      "Epoch number: 3001 and the loss : 94415.3515625\n",
      "Epoch number: 3011 and the loss : 93708.3828125\n",
      "Epoch number: 3021 and the loss : 93904.9296875\n",
      "Epoch number: 3031 and the loss : 92927.875\n",
      "Epoch number: 3041 and the loss : 92337.9296875\n",
      "Epoch number: 3051 and the loss : 91804.3984375\n",
      "Epoch number: 3061 and the loss : 91608.6484375\n",
      "Epoch number: 3071 and the loss : 91691.2578125\n",
      "Epoch number: 3081 and the loss : 89371.0625\n",
      "Epoch number: 3091 and the loss : 89286.875\n",
      "Epoch number: 3101 and the loss : 89566.6015625\n",
      "Epoch number: 3111 and the loss : 88830.3984375\n",
      "Epoch number: 3121 and the loss : 89482.3671875\n",
      "Epoch number: 3131 and the loss : 88014.2890625\n",
      "Epoch number: 3141 and the loss : 87244.453125\n",
      "Epoch number: 3151 and the loss : 86258.8515625\n",
      "Epoch number: 3161 and the loss : 87138.3359375\n",
      "Epoch number: 3171 and the loss : 85896.5234375\n",
      "Epoch number: 3181 and the loss : 86219.515625\n",
      "Epoch number: 3191 and the loss : 84526.3125\n",
      "Epoch number: 3201 and the loss : 84746.9140625\n",
      "Epoch number: 3211 and the loss : 85011.8984375\n",
      "Epoch number: 3221 and the loss : 82940.3125\n",
      "Epoch number: 3231 and the loss : 83361.875\n",
      "Epoch number: 3241 and the loss : 82184.984375\n",
      "Epoch number: 3251 and the loss : 81954.6640625\n",
      "Epoch number: 3261 and the loss : 82049.3125\n",
      "Epoch number: 3271 and the loss : 81104.78125\n",
      "Epoch number: 3281 and the loss : 81452.6171875\n",
      "Epoch number: 3291 and the loss : 80112.0703125\n",
      "Epoch number: 3301 and the loss : 79268.0859375\n",
      "Epoch number: 3311 and the loss : 78898.171875\n",
      "Epoch number: 3321 and the loss : 77668.9140625\n",
      "Epoch number: 3331 and the loss : 78655.8515625\n",
      "Epoch number: 3341 and the loss : 77063.7734375\n",
      "Epoch number: 3351 and the loss : 77076.2578125\n",
      "Epoch number: 3361 and the loss : 75820.0546875\n",
      "Epoch number: 3371 and the loss : 76646.71875\n",
      "Epoch number: 3381 and the loss : 75393.65625\n",
      "Epoch number: 3391 and the loss : 75706.671875\n",
      "Epoch number: 3401 and the loss : 74013.25\n",
      "Epoch number: 3411 and the loss : 74001.6796875\n",
      "Epoch number: 3421 and the loss : 73056.3671875\n",
      "Epoch number: 3431 and the loss : 72918.53125\n",
      "Epoch number: 3441 and the loss : 74408.640625\n",
      "Epoch number: 3451 and the loss : 72730.28125\n",
      "Epoch number: 3461 and the loss : 71975.3671875\n",
      "Epoch number: 3471 and the loss : 72544.6171875\n",
      "Epoch number: 3481 and the loss : 71930.0078125\n",
      "Epoch number: 3491 and the loss : 70692.4921875\n",
      "Epoch number: 3501 and the loss : 70360.84375\n",
      "Epoch number: 3511 and the loss : 69332.328125\n",
      "Epoch number: 3521 and the loss : 68836.296875\n",
      "Epoch number: 3531 and the loss : 68244.3359375\n",
      "Epoch number: 3541 and the loss : 68768.4140625\n",
      "Epoch number: 3551 and the loss : 67680.3671875\n",
      "Epoch number: 3561 and the loss : 66790.453125\n",
      "Epoch number: 3571 and the loss : 65558.6875\n",
      "Epoch number: 3581 and the loss : 65816.828125\n",
      "Epoch number: 3591 and the loss : 65709.4453125\n",
      "Epoch number: 3601 and the loss : 64801.4765625\n",
      "Epoch number: 3611 and the loss : 64035.32421875\n",
      "Epoch number: 3621 and the loss : 63431.515625\n",
      "Epoch number: 3631 and the loss : 64920.48828125\n",
      "Epoch number: 3641 and the loss : 62883.28515625\n",
      "Epoch number: 3651 and the loss : 62838.37890625\n",
      "Epoch number: 3661 and the loss : 62702.5078125\n",
      "Epoch number: 3671 and the loss : 61742.12109375\n",
      "Epoch number: 3681 and the loss : 61526.7578125\n",
      "Epoch number: 3691 and the loss : 61018.99609375\n",
      "Epoch number: 3701 and the loss : 61279.94140625\n",
      "Epoch number: 3711 and the loss : 60245.83984375\n",
      "Epoch number: 3721 and the loss : 58632.65625\n",
      "Epoch number: 3731 and the loss : 59382.68359375\n",
      "Epoch number: 3741 and the loss : 59308.41796875\n",
      "Epoch number: 3751 and the loss : 58603.63671875\n",
      "Epoch number: 3761 and the loss : 58286.6328125\n",
      "Epoch number: 3771 and the loss : 58701.13671875\n",
      "Epoch number: 3781 and the loss : 57194.55859375\n",
      "Epoch number: 3791 and the loss : 55576.421875\n",
      "Epoch number: 3801 and the loss : 56186.37890625\n",
      "Epoch number: 3811 and the loss : 55961.9375\n",
      "Epoch number: 3821 and the loss : 56205.3828125\n",
      "Epoch number: 3831 and the loss : 55489.265625\n",
      "Epoch number: 3841 and the loss : 53145.5703125\n",
      "Epoch number: 3851 and the loss : 54245.9453125\n",
      "Epoch number: 3861 and the loss : 54064.42578125\n",
      "Epoch number: 3871 and the loss : 53032.1171875\n",
      "Epoch number: 3881 and the loss : 51975.953125\n",
      "Epoch number: 3891 and the loss : 52156.2734375\n",
      "Epoch number: 3901 and the loss : 50976.0625\n",
      "Epoch number: 3911 and the loss : 52197.25390625\n",
      "Epoch number: 3921 and the loss : 51639.65625\n",
      "Epoch number: 3931 and the loss : 52311.24609375\n",
      "Epoch number: 3941 and the loss : 51328.26171875\n",
      "Epoch number: 3951 and the loss : 50348.0703125\n",
      "Epoch number: 3961 and the loss : 49711.8984375\n",
      "Epoch number: 3971 and the loss : 49798.16015625\n",
      "Epoch number: 3981 and the loss : 49361.16796875\n",
      "Epoch number: 3991 and the loss : 48117.99609375\n",
      "Epoch number: 4001 and the loss : 48133.37109375\n",
      "Epoch number: 4011 and the loss : 48268.6171875\n",
      "Epoch number: 4021 and the loss : 47859.5234375\n",
      "Epoch number: 4031 and the loss : 45834.79296875\n",
      "Epoch number: 4041 and the loss : 46387.08203125\n",
      "Epoch number: 4051 and the loss : 46409.1328125\n",
      "Epoch number: 4061 and the loss : 46427.3046875\n",
      "Epoch number: 4071 and the loss : 45637.5\n",
      "Epoch number: 4081 and the loss : 50012.3671875\n",
      "Epoch number: 4091 and the loss : 46102.640625\n",
      "Epoch number: 4101 and the loss : 44860.421875\n",
      "Epoch number: 4111 and the loss : 46288.93359375\n",
      "Epoch number: 4121 and the loss : 45509.125\n",
      "Epoch number: 4131 and the loss : 45031.01953125\n",
      "Epoch number: 4141 and the loss : 42785.44140625\n",
      "Epoch number: 4151 and the loss : 43375.3671875\n",
      "Epoch number: 4161 and the loss : 43517.1015625\n",
      "Epoch number: 4171 and the loss : 42254.81640625\n",
      "Epoch number: 4181 and the loss : 41191.15234375\n",
      "Epoch number: 4191 and the loss : 41645.83203125\n",
      "Epoch number: 4201 and the loss : 42300.421875\n",
      "Epoch number: 4211 and the loss : 42168.40625\n",
      "Epoch number: 4221 and the loss : 42016.87109375\n",
      "Epoch number: 4231 and the loss : 42175.88671875\n",
      "Epoch number: 4241 and the loss : 41035.734375\n",
      "Epoch number: 4251 and the loss : 40895.046875\n",
      "Epoch number: 4261 and the loss : 39190.80078125\n",
      "Epoch number: 4271 and the loss : 41592.0703125\n",
      "Epoch number: 4281 and the loss : 41030.78125\n",
      "Epoch number: 4291 and the loss : 39692.25\n",
      "Epoch number: 4301 and the loss : 38047.5390625\n",
      "Epoch number: 4311 and the loss : 39438.04296875\n",
      "Epoch number: 4321 and the loss : 39400.57421875\n",
      "Epoch number: 4331 and the loss : 39546.5546875\n",
      "Epoch number: 4341 and the loss : 40586.84765625\n",
      "Epoch number: 4351 and the loss : 38382.8984375\n",
      "Epoch number: 4361 and the loss : 39374.91015625\n",
      "Epoch number: 4371 and the loss : 37677.04296875\n",
      "Epoch number: 4381 and the loss : 39706.62109375\n",
      "Epoch number: 4391 and the loss : 39138.015625\n",
      "Epoch number: 4401 and the loss : 37592.45703125\n",
      "Epoch number: 4411 and the loss : 38435.10546875\n",
      "Epoch number: 4421 and the loss : 39494.5625\n",
      "Epoch number: 4431 and the loss : 38340.00390625\n",
      "Epoch number: 4441 and the loss : 36906.16796875\n",
      "Epoch number: 4451 and the loss : 37176.0625\n",
      "Epoch number: 4461 and the loss : 37370.15625\n",
      "Epoch number: 4471 and the loss : 38108.80078125\n",
      "Epoch number: 4481 and the loss : 36422.953125\n",
      "Epoch number: 4491 and the loss : 36687.4375\n",
      "Epoch number: 4501 and the loss : 36724.85546875\n",
      "Epoch number: 4511 and the loss : 37149.38671875\n",
      "Epoch number: 4521 and the loss : 36497.01953125\n",
      "Epoch number: 4531 and the loss : 36497.828125\n",
      "Epoch number: 4541 and the loss : 36735.39453125\n",
      "Epoch number: 4551 and the loss : 34566.8515625\n",
      "Epoch number: 4561 and the loss : 35836.95703125\n",
      "Epoch number: 4571 and the loss : 35956.765625\n",
      "Epoch number: 4581 and the loss : 35909.2265625\n",
      "Epoch number: 4591 and the loss : 36779.08984375\n",
      "Epoch number: 4601 and the loss : 35058.8125\n",
      "Epoch number: 4611 and the loss : 36073.1328125\n",
      "Epoch number: 4621 and the loss : 37659.90625\n",
      "Epoch number: 4631 and the loss : 35686.4921875\n",
      "Epoch number: 4641 and the loss : 36619.29296875\n",
      "Epoch number: 4651 and the loss : 35775.9765625\n",
      "Epoch number: 4661 and the loss : 36153.234375\n",
      "Epoch number: 4671 and the loss : 34932.5390625\n",
      "Epoch number: 4681 and the loss : 34886.8671875\n",
      "Epoch number: 4691 and the loss : 35919.23828125\n",
      "Epoch number: 4701 and the loss : 35863.12890625\n",
      "Epoch number: 4711 and the loss : 34635.05078125\n",
      "Epoch number: 4721 and the loss : 35001.23828125\n",
      "Epoch number: 4731 and the loss : 34018.29296875\n",
      "Epoch number: 4741 and the loss : 34563.23828125\n",
      "Epoch number: 4751 and the loss : 34933.50390625\n",
      "Epoch number: 4761 and the loss : 35399.7421875\n",
      "Epoch number: 4771 and the loss : 37001.4765625\n",
      "Epoch number: 4781 and the loss : 35089.59765625\n",
      "Epoch number: 4791 and the loss : 36447.125\n",
      "Epoch number: 4801 and the loss : 33390.4296875\n",
      "Epoch number: 4811 and the loss : 35263.29296875\n",
      "Epoch number: 4821 and the loss : 34226.109375\n",
      "Epoch number: 4831 and the loss : 34762.55078125\n",
      "Epoch number: 4841 and the loss : 33425.83984375\n",
      "Epoch number: 4851 and the loss : 34498.2734375\n",
      "Epoch number: 4861 and the loss : 36994.29296875\n",
      "Epoch number: 4871 and the loss : 35360.3515625\n",
      "Epoch number: 4881 and the loss : 34260.71875\n",
      "Epoch number: 4891 and the loss : 35345.5\n",
      "Epoch number: 4901 and the loss : 35382.25390625\n",
      "Epoch number: 4911 and the loss : 33986.55859375\n",
      "Epoch number: 4921 and the loss : 36061.94921875\n",
      "Epoch number: 4931 and the loss : 35009.68359375\n",
      "Epoch number: 4941 and the loss : 35498.359375\n",
      "Epoch number: 4951 and the loss : 36194.140625\n",
      "Epoch number: 4961 and the loss : 39809.4140625\n",
      "Epoch number: 4971 and the loss : 34638.34765625\n",
      "Epoch number: 4981 and the loss : 35102.03125\n",
      "Epoch number: 4991 and the loss : 34324.3671875\n"
     ]
    }
   ],
   "source": [
    "epochs=5000\n",
    "final_losses=[]\n",
    "for i in range(epochs):\n",
    "    i=i+1\n",
    "    y_pred=model(train_categorical,train_cont)\n",
    "    loss=torch.sqrt(loss_function(y_pred,y_train)) ### RMSE\n",
    "    final_losses.append(loss)\n",
    "    if i%10==1:\n",
    "        print(\"Epoch number: {} and the loss : {}\".format(i,loss.item()))\n",
    "    optimizer.zero_grad()\n",
    "    loss.backward()\n",
    "    optimizer.step()"
   ]
  },
  {
   "cell_type": "markdown",
   "id": "8c25bbbb",
   "metadata": {},
   "source": [
    "### Ploting Loss againgst epoch"
   ]
  },
  {
   "cell_type": "code",
   "execution_count": 32,
   "id": "f6b3ed26",
   "metadata": {},
   "outputs": [
    {
     "name": "stdout",
     "output_type": "stream",
     "text": [
      "Defaulting to user installation because normal site-packages is not writeable\n",
      "Collecting matplotlib\n",
      "  Downloading matplotlib-3.10.5-cp311-cp311-macosx_11_0_arm64.whl.metadata (11 kB)\n",
      "Collecting contourpy>=1.0.1 (from matplotlib)\n",
      "  Downloading contourpy-1.3.3-cp311-cp311-macosx_11_0_arm64.whl.metadata (5.5 kB)\n",
      "Collecting cycler>=0.10 (from matplotlib)\n",
      "  Downloading cycler-0.12.1-py3-none-any.whl.metadata (3.8 kB)\n",
      "Collecting fonttools>=4.22.0 (from matplotlib)\n",
      "  Downloading fonttools-4.59.0-cp311-cp311-macosx_10_9_universal2.whl.metadata (107 kB)\n",
      "Collecting kiwisolver>=1.3.1 (from matplotlib)\n",
      "  Downloading kiwisolver-1.4.8-cp311-cp311-macosx_11_0_arm64.whl.metadata (6.2 kB)\n",
      "Requirement already satisfied: numpy>=1.23 in /Users/bertrandmutangana/Library/Python/3.11/lib/python/site-packages (from matplotlib) (2.0.1)\n",
      "Requirement already satisfied: packaging>=20.0 in /Users/bertrandmutangana/Library/Python/3.11/lib/python/site-packages (from matplotlib) (25.0)\n",
      "Collecting pillow>=8 (from matplotlib)\n",
      "  Downloading pillow-11.3.0-cp311-cp311-macosx_11_0_arm64.whl.metadata (9.0 kB)\n",
      "Collecting pyparsing>=2.3.1 (from matplotlib)\n",
      "  Downloading pyparsing-3.2.3-py3-none-any.whl.metadata (5.0 kB)\n",
      "Requirement already satisfied: python-dateutil>=2.7 in /Users/bertrandmutangana/Library/Python/3.11/lib/python/site-packages (from matplotlib) (2.9.0.post0)\n",
      "Requirement already satisfied: six>=1.5 in /Users/bertrandmutangana/Library/Python/3.11/lib/python/site-packages (from python-dateutil>=2.7->matplotlib) (1.16.0)\n",
      "Downloading matplotlib-3.10.5-cp311-cp311-macosx_11_0_arm64.whl (8.1 MB)\n",
      "\u001b[2K   \u001b[90m━━━━━━━━━━━━━━━━━━━━━━━━━━━━━━━━━━━━━━━━\u001b[0m \u001b[32m8.1/8.1 MB\u001b[0m \u001b[31m5.4 MB/s\u001b[0m eta \u001b[36m0:00:00\u001b[0ma \u001b[36m0:00:01\u001b[0m\n",
      "\u001b[?25hDownloading contourpy-1.3.3-cp311-cp311-macosx_11_0_arm64.whl (270 kB)\n",
      "Downloading cycler-0.12.1-py3-none-any.whl (8.3 kB)\n",
      "Downloading fonttools-4.59.0-cp311-cp311-macosx_10_9_universal2.whl (2.8 MB)\n",
      "\u001b[2K   \u001b[90m━━━━━━━━━━━━━━━━━━━━━━━━━━━━━━━━━━━━━━━━\u001b[0m \u001b[32m2.8/2.8 MB\u001b[0m \u001b[31m6.3 MB/s\u001b[0m eta \u001b[36m0:00:00\u001b[0ma \u001b[36m0:00:01\u001b[0m\n",
      "\u001b[?25hDownloading kiwisolver-1.4.8-cp311-cp311-macosx_11_0_arm64.whl (65 kB)\n",
      "Downloading pillow-11.3.0-cp311-cp311-macosx_11_0_arm64.whl (4.7 MB)\n",
      "\u001b[2K   \u001b[90m━━━━━━━━━━━━━━━━━━━━━━━━━━━━━━━━━━━━━━━━\u001b[0m \u001b[32m4.7/4.7 MB\u001b[0m \u001b[31m6.2 MB/s\u001b[0m eta \u001b[36m0:00:00\u001b[0ma \u001b[36m0:00:01\u001b[0m\n",
      "\u001b[?25hDownloading pyparsing-3.2.3-py3-none-any.whl (111 kB)\n",
      "Installing collected packages: pyparsing, pillow, kiwisolver, fonttools, cycler, contourpy, matplotlib\n",
      "Successfully installed contourpy-1.3.3 cycler-0.12.1 fonttools-4.59.0 kiwisolver-1.4.8 matplotlib-3.10.5 pillow-11.3.0 pyparsing-3.2.3\n",
      "\n",
      "\u001b[1m[\u001b[0m\u001b[34;49mnotice\u001b[0m\u001b[1;39;49m]\u001b[0m\u001b[39;49m A new release of pip is available: \u001b[0m\u001b[31;49m24.2\u001b[0m\u001b[39;49m -> \u001b[0m\u001b[32;49m25.1.1\u001b[0m\n",
      "\u001b[1m[\u001b[0m\u001b[34;49mnotice\u001b[0m\u001b[1;39;49m]\u001b[0m\u001b[39;49m To update, run: \u001b[0m\u001b[32;49mpython3.11 -m pip install --upgrade pip\u001b[0m\n",
      "Note: you may need to restart the kernel to use updated packages.\n"
     ]
    }
   ],
   "source": [
    "pip install matplotlib"
   ]
  },
  {
   "cell_type": "code",
   "execution_count": 36,
   "id": "061017d3",
   "metadata": {},
   "outputs": [
    {
     "data": {
      "text/plain": [
       "Text(0.5, 0, 'epoch')"
      ]
     },
     "execution_count": 36,
     "metadata": {},
     "output_type": "execute_result"
    },
    {
     "data": {
      "image/png": "[encoded data removed]",
      "text/plain": [
       "<Figure size 640x480 with 1 Axes>"
      ]
     },
     "metadata": {},
     "output_type": "display_data"
    }
   ],
   "source": [
    "import matplotlib.pyplot as plt\n",
    "%matplotlib inline\n",
    "plt.plot(range(epochs), [loss.detach().numpy() if hasattr(loss, 'detach') else loss for loss in final_losses])\n",
    "plt.ylabel('RMSE Loss')\n",
    "plt.xlabel('epoch')"
   ]
  },
  {
   "cell_type": "markdown",
   "id": "1f5f221b",
   "metadata": {},
   "source": [
    "### Validate the Test Data"
   ]
  },
  {
   "cell_type": "code",
   "execution_count": 37,
   "id": "e513f237",
   "metadata": {},
   "outputs": [
    {
     "name": "stdout",
     "output_type": "stream",
     "text": [
      "RMSE: 47750.21484375\n"
     ]
    }
   ],
   "source": [
    "\n",
    "y_pred=\"\"\n",
    "with torch.no_grad():\n",
    "    y_pred=model(test_categorical,test_cont)\n",
    "    loss=torch.sqrt(loss_function(y_pred,y_test))\n",
    "print('RMSE: {}'.format(loss))"
   ]
  },
  {
   "cell_type": "code",
   "execution_count": 38,
   "id": "fbd9364c",
   "metadata": {},
   "outputs": [],
   "source": [
    "data_verify=pd.DataFrame(y_test.tolist(),columns=[\"Test\"])"
   ]
  },
  {
   "cell_type": "code",
   "execution_count": 39,
   "id": "87c7f647",
   "metadata": {},
   "outputs": [],
   "source": [
    "data_predicted=pd.DataFrame(y_pred.tolist(),columns=[\"Prediction\"])"
   ]
  },
  {
   "cell_type": "markdown",
   "id": "0baa42fb",
   "metadata": {},
   "source": [
    "### Comparing The prediction against the actual data"
   ]
  },
  {
   "cell_type": "code",
   "execution_count": 40,
   "id": "3491bfd4",
   "metadata": {},
   "outputs": [
    {
     "data": {
      "text/html": [
       "<div>\n",
       "<style scoped>\n",
       "    .dataframe tbody tr th:only-of-type {\n",
       "        vertical-align: middle;\n",
       "    }\n",
       "\n",
       "    .dataframe tbody tr th {\n",
       "        vertical-align: top;\n",
       "    }\n",
       "\n",
       "    .dataframe thead th {\n",
       "        text-align: right;\n",
       "    }\n",
       "</style>\n",
       "<table border=\"1\" class=\"dataframe\">\n",
       "  <thead>\n",
       "    <tr style=\"text-align: right;\">\n",
       "      <th></th>\n",
       "      <th>Test</th>\n",
       "      <th>Prediction</th>\n",
       "      <th>Difference</th>\n",
       "    </tr>\n",
       "  </thead>\n",
       "  <tbody>\n",
       "    <tr>\n",
       "      <th>0</th>\n",
       "      <td>130000.0</td>\n",
       "      <td>137630.18750</td>\n",
       "      <td>-7630.18750</td>\n",
       "    </tr>\n",
       "    <tr>\n",
       "      <th>1</th>\n",
       "      <td>138887.0</td>\n",
       "      <td>149623.53125</td>\n",
       "      <td>-10736.53125</td>\n",
       "    </tr>\n",
       "    <tr>\n",
       "      <th>2</th>\n",
       "      <td>175500.0</td>\n",
       "      <td>149617.53125</td>\n",
       "      <td>25882.46875</td>\n",
       "    </tr>\n",
       "    <tr>\n",
       "      <th>3</th>\n",
       "      <td>195000.0</td>\n",
       "      <td>247700.31250</td>\n",
       "      <td>-52700.31250</td>\n",
       "    </tr>\n",
       "    <tr>\n",
       "      <th>4</th>\n",
       "      <td>142500.0</td>\n",
       "      <td>149790.90625</td>\n",
       "      <td>-7290.90625</td>\n",
       "    </tr>\n",
       "  </tbody>\n",
       "</table>\n",
       "</div>"
      ],
      "text/plain": [
       "       Test    Prediction   Difference\n",
       "0  130000.0  137630.18750  -7630.18750\n",
       "1  138887.0  149623.53125 -10736.53125\n",
       "2  175500.0  149617.53125  25882.46875\n",
       "3  195000.0  247700.31250 -52700.31250\n",
       "4  142500.0  149790.90625  -7290.90625"
      ]
     },
     "execution_count": 40,
     "metadata": {},
     "output_type": "execute_result"
    }
   ],
   "source": [
    "final_output=pd.concat([data_verify,data_predicted],axis=1)\n",
    "final_output['Difference']=final_output['Test']-final_output['Prediction']\n",
    "final_output.head()"
   ]
  },
  {
   "cell_type": "markdown",
   "id": "b989adc1",
   "metadata": {},
   "source": [
    "### Saving the model"
   ]
  },
  {
   "cell_type": "code",
   "execution_count": 42,
   "id": "6be5d7e4",
   "metadata": {},
   "outputs": [],
   "source": [
    "torch.save(model,'HousePrice.pt')\n",
    "torch.save(model.state_dict(),'HouseWeights.pt')"
   ]
  },
  {
   "cell_type": "markdown",
   "id": "a8a99bde",
   "metadata": {},
   "source": [
    "### Loading the model"
   ]
  },
  {
   "cell_type": "code",
   "execution_count": 43,
   "id": "adcdf7b4",
   "metadata": {},
   "outputs": [],
   "source": [
    "embs_size=[(15, 8), (5, 3), (2, 1), (4, 2)]\n",
    "model1=FeedForwardNN(embs_size,5,1,[100,50],p=0.4)"
   ]
  },
  {
   "cell_type": "code",
   "execution_count": 44,
   "id": "986435f4",
   "metadata": {},
   "outputs": [
    {
     "data": {
      "text/plain": [
       "<All keys matched successfully>"
      ]
     },
     "execution_count": 44,
     "metadata": {},
     "output_type": "execute_result"
    }
   ],
   "source": [
    "model1.load_state_dict(torch.load('HouseWeights.pt'))"
   ]
  },
  {
   "cell_type": "code",
   "execution_count": 45,
   "id": "4c9e915c",
   "metadata": {},
   "outputs": [
    {
     "data": {
      "text/plain": [
       "FeedForwardNN(\n",
       "  (embeds): ModuleList(\n",
       "    (0): Embedding(15, 8)\n",
       "    (1): Embedding(5, 3)\n",
       "    (2): Embedding(2, 1)\n",
       "    (3): Embedding(4, 2)\n",
       "  )\n",
       "  (emb_drop): Dropout(p=0.4, inplace=False)\n",
       "  (bn_cont): BatchNorm1d(5, eps=1e-05, momentum=0.1, affine=True, track_running_stats=True)\n",
       "  (layers): Sequential(\n",
       "    (0): Linear(in_features=19, out_features=100, bias=True)\n",
       "    (1): ReLU(inplace=True)\n",
       "    (2): BatchNorm1d(100, eps=1e-05, momentum=0.1, affine=True, track_running_stats=True)\n",
       "    (3): Dropout(p=0.4, inplace=False)\n",
       "    (4): Linear(in_features=100, out_features=50, bias=True)\n",
       "    (5): ReLU(inplace=True)\n",
       "    (6): BatchNorm1d(50, eps=1e-05, momentum=0.1, affine=True, track_running_stats=True)\n",
       "    (7): Dropout(p=0.4, inplace=False)\n",
       "    (8): Linear(in_features=50, out_features=1, bias=True)\n",
       "  )\n",
       ")"
      ]
     },
     "execution_count": 45,
     "metadata": {},
     "output_type": "execute_result"
    }
   ],
   "source": [
    "model1.eval()"
   ]
  }
 ],
 "metadata": {
  "kernelspec": {
   "display_name": "Python 3",
   "language": "python",
   "name": "python3"
  },
  "language_info": {
   "codemirror_mode": {
    "name": "ipython",
    "version": 3
   },
   "file_extension": ".py",
   "mimetype": "text/x-python",
   "name": "python",
   "nbconvert_exporter": "python",
   "pygments_lexer": "ipython3",
   "version": "3.11.4"
  }
 },
 "nbformat": 4,
 "nbformat_minor": 5
}
